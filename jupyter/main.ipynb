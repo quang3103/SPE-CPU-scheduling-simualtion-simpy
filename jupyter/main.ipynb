{
 "cells": [
  {
   "cell_type": "markdown",
   "id": "6b6ac7ce",
   "metadata": {},
   "source": [
    "# Multilevel Feedback Queue scheduling (MLFQ) in CPU scheduling. \n",
    "\n",
    "#### Lecturer: \n",
    "Tran Van Hoai\n",
    "#### Students:\n",
    "Phan Minh Toan - 1852798\n",
    "\n",
    "Tran Nhut Quang - 1852037\n",
    "\n",
    "Trinh Minh Trung - 1852825\n"
   ]
  },
  {
   "cell_type": "markdown",
   "id": "a06a7b56",
   "metadata": {},
   "source": [
    "## 1. Introduction\n",
    "\n",
    "In this assignment, Our group will demonstate a Multilevel Feedback Queue Scheduling in scheduling. The purpose of this assignment is to evaluate the performance of the scheduling related to CPU Utilization. 7 different mode will be carried out for comparison and evaluation. From such evaluation and comparison, conclusion for the CPU Utilization can be withdrawn from modes or each mode we generated.\n",
    "\n",
    "## 2. Multilevel Feedback Queue scheduling (MLFQ)\n",
    "\n",
    "Multilevel Feedback Queue is an upgrade of Multilevel queue in CPU scheduling. Multilevel Queue (MLQ) and Multilevel Feedback Queue (MLFQ) is used when processes in the ready queue can be arranged into different classes where each class have its own requirements of scheduling. The different between these two algorithms is that the MLFQ allows a process to move between queues. This function can help scheduler in separate the processes based on CPU – burst. For instance, if a process uses too much time on CPU, it will be moved to a lower-priority queue. In the other hands, if a process wait too long in lower-priority queue may be moved to a higher priority queue. This will prevent starvation.\n"
   ]
  },
  {
   "attachments": {
    "MLFQ.jpg": {
     "image/jpeg": "[encoded data removed]"
    }
   },
   "cell_type": "markdown",
   "id": "b4cff704",
   "metadata": {},
   "source": [
    "![MLFQ.jpg](attachment:MLFQ.jpg)"
   ]
  },
  {
   "cell_type": "markdown",
   "id": "c10b89af",
   "metadata": {},
   "source": [
    "## 3.  Multilevel Feedback Queue Scheduler parameters:\n",
    "\n",
    "A Multilevel Feedback Queue Scheduler can be defined by the following parameters:\n",
    "* The number of queues.\n",
    "* The scheduling algorithm for each queue.\n",
    "* The method used to determine when to upgrade a process to a higher-priority queue.\n",
    "* The method used to determine when to demote a process to a lower-priority queue.\n",
    "* The method used to determine which queue a process will enter when that process needs service.\n",
    "* The number of queues.\n",
    "\n",
    "The definition of a multilevel feedback queue scheduler makes it the most general CPU-scheduling algorithm. However, there are some requirements for selecting values for all parameters to perform the best scheduler. \n"
   ]
  },
  {
   "cell_type": "markdown",
   "id": "a04acbfd",
   "metadata": {},
   "source": [
    "## 4. Advantages and Disadvantages\n",
    "\n",
    "The MLFQ brings us many benefits of scheduling:\n",
    "\n",
    "* Flexibility.\n",
    "* It allows different processes to move between different queues.\n",
    "* It prevents starvation by moving a process that waits too long for the lower priority queue to the higher priority queue.\n",
    "\n",
    "However, there exist some limitations. \n",
    "\n",
    "* For the selection of the best scheduler, it requires some other means to select the values.\n",
    "* It produces more CPU overheads.\n",
    "* It is the most complex algorithm."
   ]
  },
  {
   "cell_type": "markdown",
   "id": "a211de56",
   "metadata": {},
   "source": [
    "## 5. Steps in Performance Evaluation Project\n",
    "\n",
    "### 5.1. Stating Goals and Defining the system\n",
    "\n",
    "Goals of CPU Scheduling with Multilevel Feedback Queue:\n",
    "\n",
    "* To estimate completion time, response time, ... of Multilevel Feedback Queue in CPU Scheduling\n",
    "* To minimize waiting time, response time, turnaround time.\n",
    "* To know how well Multilevel Feedback Queue Scheduler work in each cases\n",
    "\n",
    "Defining the system:\n",
    "\n",
    "* Define how many queues are in use.\n",
    "* Define what types of queues are under usage\n",
    "\n",
    "### 5.2. List of services and outcomes\n",
    "\n",
    "List of services:\n",
    "\n",
    "* To schedule jobs/processes to CPU.\n",
    "* Queue handle the jobs/processes.\n",
    "\n",
    "Outcomes:\n",
    "\n",
    "* Processes have to wait a long time before finishing executing or Processes have long response time.\n",
    "* Processes can not be finished under scheduling.\n",
    "* Processes have long waiting time before executing.\n",
    "* All of Processes finishes under a reasonable amount of time.\n",
    "* Processes response immediately.\n",
    "\n",
    "### 5.3. Selected Metrics\n",
    "\n",
    "* Process Response Time\n",
    "* Process Waiting Time\n",
    "* Process Turnarround Time\n",
    "* Process completed rate\n",
    "\n",
    "### 5.4. List of Study Parameters\n",
    "\n",
    "System Parameters:\n",
    "\n",
    "* Speed of local CPUs.\n",
    "\n",
    "Workload Parameters:\n",
    "\n",
    "* Number of processes that are under scheduling.\n",
    "* Scheduling Algorithm.\n",
    "* Scheduling handler algorithm.\n",
    "* Quantum time in specific scheduling.\n",
    "* Service Rate.\n",
    "* Arrival Rate.\n",
    "\n",
    "\n",
    "###  5.5. List of Factors to study\n",
    "\n",
    "* Jobs go to Round Robin Queue in priority\n",
    "* Jobs go to First Come First Serve Queue in priority without Round Robin\n",
    "* Jobs are scheduled with the combination of First Come First Serve Queue and Round Robin Queue alternatedly\n",
    "* Jobs are scheduled with random burst time.\n",
    "* Jobs are scheduled with random priority.\n",
    "* Changing Arrival Rate\n",
    "* Changing Service Rate"
   ]
  },
  {
   "cell_type": "markdown",
   "id": "bbf13757",
   "metadata": {},
   "source": [
    "## 6. Simulation Design"
   ]
  },
  {
   "attachments": {
    "simulation_design.png": {
     "image/png": "[encoded data removed]"
    }
   },
   "cell_type": "markdown",
   "id": "045e3f13",
   "metadata": {},
   "source": [
    "![simulation_design.png](attachment:simulation_design.png)"
   ]
  },
  {
   "cell_type": "markdown",
   "id": "ebcbddd4",
   "metadata": {},
   "source": [
    "## 7. Begin Simulation"
   ]
  },
  {
   "cell_type": "markdown",
   "id": "95a89779",
   "metadata": {},
   "source": [
    "### INSTALL SUPPORTED LIBRARY"
   ]
  },
  {
   "cell_type": "code",
   "execution_count": 594,
   "id": "169c3d7f",
   "metadata": {},
   "outputs": [
    {
     "name": "stdout",
     "output_type": "stream",
     "text": [
      "Requirement already satisfied: pandas in c:\\users\\pmt12\\appdata\\local\\programs\\python\\python310\\lib\\site-packages (1.4.2)\n",
      "Requirement already satisfied: numpy>=1.21.0 in c:\\users\\pmt12\\appdata\\local\\programs\\python\\python310\\lib\\site-packages (from pandas) (1.22.3)\n",
      "Requirement already satisfied: python-dateutil>=2.8.1 in c:\\users\\pmt12\\appdata\\local\\programs\\python\\python310\\lib\\site-packages (from pandas) (2.8.2)\n",
      "Requirement already satisfied: pytz>=2020.1 in c:\\users\\pmt12\\appdata\\local\\programs\\python\\python310\\lib\\site-packages (from pandas) (2022.1)\n",
      "Requirement already satisfied: six>=1.5 in c:\\users\\pmt12\\appdata\\local\\programs\\python\\python310\\lib\\site-packages (from python-dateutil>=2.8.1->pandas) (1.16.0)\n",
      "Requirement already satisfied: matplotlib in c:\\users\\pmt12\\appdata\\local\\programs\\python\\python310\\lib\\site-packages (3.5.1)\n",
      "Requirement already satisfied: fonttools>=4.22.0 in c:\\users\\pmt12\\appdata\\local\\programs\\python\\python310\\lib\\site-packages (from matplotlib) (4.31.2)\n",
      "Requirement already satisfied: pyparsing>=2.2.1 in c:\\users\\pmt12\\appdata\\local\\programs\\python\\python310\\lib\\site-packages (from matplotlib) (3.0.7)\n",
      "Requirement already satisfied: packaging>=20.0 in c:\\users\\pmt12\\appdata\\local\\programs\\python\\python310\\lib\\site-packages (from matplotlib) (21.3)\n",
      "Requirement already satisfied: kiwisolver>=1.0.1 in c:\\users\\pmt12\\appdata\\local\\programs\\python\\python310\\lib\\site-packages (from matplotlib) (1.4.2)\n",
      "Requirement already satisfied: numpy>=1.17 in c:\\users\\pmt12\\appdata\\local\\programs\\python\\python310\\lib\\site-packages (from matplotlib) (1.22.3)\n",
      "Requirement already satisfied: python-dateutil>=2.7 in c:\\users\\pmt12\\appdata\\local\\programs\\python\\python310\\lib\\site-packages (from matplotlib) (2.8.2)\n",
      "Requirement already satisfied: cycler>=0.10 in c:\\users\\pmt12\\appdata\\local\\programs\\python\\python310\\lib\\site-packages (from matplotlib) (0.11.0)\n",
      "Requirement already satisfied: pillow>=6.2.0 in c:\\users\\pmt12\\appdata\\local\\programs\\python\\python310\\lib\\site-packages (from matplotlib) (9.0.1)\n",
      "Requirement already satisfied: six>=1.5 in c:\\users\\pmt12\\appdata\\local\\programs\\python\\python310\\lib\\site-packages (from python-dateutil>=2.7->matplotlib) (1.16.0)\n",
      "Requirement already satisfied: numpy in c:\\users\\pmt12\\appdata\\local\\programs\\python\\python310\\lib\\site-packages (1.22.3)\n",
      "Requirement already satisfied: simpy in c:\\users\\pmt12\\appdata\\local\\programs\\python\\python310\\lib\\site-packages (4.0.1)\n"
     ]
    }
   ],
   "source": [
    "!pip install pandas\n",
    "!pip install matplotlib\n",
    "!pip install numpy\n",
    "!pip install simpy"
   ]
  },
  {
   "cell_type": "markdown",
   "id": "3464d798",
   "metadata": {},
   "source": [
    "### IMPORT INSTALL LIBRARY"
   ]
  },
  {
   "cell_type": "code",
   "execution_count": 595,
   "id": "dac636e2",
   "metadata": {},
   "outputs": [],
   "source": [
    "import simpy\n",
    "import numpy.random as random\n",
    "import math\n",
    "import pandas as pd\n",
    "import matplotlib.pyplot as plt\n",
    "import os"
   ]
  },
  {
   "cell_type": "markdown",
   "id": "ac0a0859",
   "metadata": {},
   "source": [
    "### INITIAL PARAMETERS\n",
    "\n",
    "Initial parameters are used for specific simulation below. These parameters can be changed. However, in this report, only the Generated Mode are changed for observation. The default mode for simulation will be 4. For later on and further research, remaining parameters will be changed. "
   ]
  },
  {
   "cell_type": "code",
   "execution_count": 596,
   "id": "5a26caf4",
   "metadata": {},
   "outputs": [],
   "source": [
    "LAMBDA = 10 # ARRIVAL RATE\n",
    "MU = 20 # SERVICE RATE\n",
    "QUANTUM_TIME = 10 \n",
    "GENERATE_MODE = 6"
   ]
  },
  {
   "cell_type": "markdown",
   "id": "e92cdaab",
   "metadata": {},
   "source": [
    "### FORMAT FILE PATH\n",
    "\n",
    "File path will be changed for each generated mode."
   ]
  },
  {
   "cell_type": "code",
   "execution_count": 597,
   "id": "fce6d45b",
   "metadata": {},
   "outputs": [],
   "source": [
    "path_file = \"./output/mode{}\".format(GENERATE_MODE)\n",
    "log_file = open(\"{}/log.txt\".format(path_file), \"w\")\n",
    "queue_file = open(\"{}/queue.txt\".format(path_file), \"w\")\n",
    "\n",
    "stat_file = \"{}/stat.csv\".format(path_file)\n",
    "FCFSQueue_file = \"{}/FCFSQueue.csv\".format(path_file)\n",
    "RRQueue_file = \"{}/RRQueue.csv\".format(path_file)\n"
   ]
  },
  {
   "cell_type": "markdown",
   "id": "fc5320ff",
   "metadata": {},
   "source": [
    "### CREATE STATISTIC FILES FOR OBSERVATION AND PLOTTING"
   ]
  },
  {
   "cell_type": "code",
   "execution_count": 598,
   "id": "7abb9efe",
   "metadata": {},
   "outputs": [],
   "source": [
    "open(stat_file, 'w').close()\n",
    "open(RRQueue_file, 'w').close()\n",
    "open(FCFSQueue_file, 'w').close()\n",
    "\n",
    "RR_time_stat_file = \"{}/RR_time_stat_{}.csv\".format(path_file, GENERATE_MODE)\n",
    "FCFS_time_stat_file = \"{}/FCFS_time_stat_{}.csv\".format(path_file, GENERATE_MODE)\n",
    "#CREATE TIME STATISTICS FILE IF NOT EXIST\n",
    "if not os.path.exists(str(RR_time_stat_file)):\n",
    "    open(RR_time_stat_file, 'w').close()\n",
    "    \n",
    "if not os.path.exists(str(FCFS_time_stat_file)):\n",
    "    open(FCFS_time_stat_file, 'w').close()"
   ]
  },
  {
   "cell_type": "markdown",
   "id": "1f517ca8",
   "metadata": {},
   "source": [
    "### FUNCTION FOR IMPLEMENTATION\n",
    "\n",
    "#### WRITE FILE FUNCTION"
   ]
  },
  {
   "cell_type": "code",
   "execution_count": 599,
   "id": "ee770eb6",
   "metadata": {},
   "outputs": [],
   "source": [
    "def write_to_file(path_to_file, time, who, msg):\n",
    "    path_to_file.write(\"{}:{}{}:{}{}\\n\".format(time, \" \" * (10 - len(str(time))), who, \" \" * (20 - len(who)), msg))\n",
    "    path_to_file.write(\"\\n\")"
   ]
  },
  {
   "cell_type": "code",
   "execution_count": 600,
   "id": "7e9a84d2",
   "metadata": {},
   "outputs": [],
   "source": [
    "def write_queue_to_file(path_to_file, time, which, queue):\n",
    "    path_to_file.write(\"{}:{}{}: \".format(time, \" \" * (10 - len(str(time))), which, \" \" * (20 - len(which))))\n",
    "    for job in queue:\n",
    "        path_to_file.write(str(job.id) + \" \")\n",
    "    path_to_file.write(\"\\n\")"
   ]
  },
  {
   "cell_type": "code",
   "execution_count": 601,
   "id": "3f2d919b",
   "metadata": {},
   "outputs": [],
   "source": [
    "def write_statistic_to_file(path_to_file, job):\n",
    "    process = [job.id]\n",
    "    arr_time = [job.arrival_time]\n",
    "    saved_burst_time = [job.saved_burst_time]\n",
    "    turn_arround_time = [job.turn_around_time]\n",
    "    response_time = [job.response_time]\n",
    "    waiting_time = [job.waiting_time]\n",
    "    \n",
    "    df = pd.DataFrame(data={\"process\": process, \n",
    "                            \"arrival\": arr_time, \n",
    "                            \"burst_time\": saved_burst_time, \n",
    "                            \"turn_arround\": turn_arround_time, \n",
    "                            \"response_time\": response_time, \n",
    "                            \"waiting_time\": waiting_time})\n",
    "    with open(path_to_file) as f:\n",
    "        line = f.readlines()\n",
    "        f.close()\n",
    "    if len(line) > 0:\n",
    "        df.to_csv(path_to_file, mode ='a', index = False, header= False)\n",
    "    else:\n",
    "        df.to_csv(path_to_file, mode ='a', index = False, header= True)"
   ]
  },
  {
   "cell_type": "code",
   "execution_count": 602,
   "id": "322cfd90",
   "metadata": {},
   "outputs": [],
   "source": [
    "def write_job_in_queue(path_to_file, time, numberOfprocess):\n",
    "    time = [time]\n",
    "    number = [numberOfprocess]\n",
    "    \n",
    "    df = pd.DataFrame(data ={\"time\": time,\n",
    "                             \"Amount\": number})\n",
    "    with open(path_to_file) as f:\n",
    "        line = f.readlines()\n",
    "        f.close()\n",
    "    if len(line) > 0:\n",
    "        df.to_csv(path_to_file, mode ='a', index = False, header= False)\n",
    "    else:\n",
    "        df.to_csv(path_to_file, mode ='a', index = False, header= True)"
   ]
  },
  {
   "cell_type": "markdown",
   "id": "86f7078e",
   "metadata": {},
   "source": [
    "#### DELETE CSV FUNCTION - AVOIDING OVERWRITE"
   ]
  },
  {
   "cell_type": "code",
   "execution_count": 603,
   "id": "601d722c",
   "metadata": {},
   "outputs": [],
   "source": [
    "def deleteCSV():\n",
    "    if os.path.exists(str(stat_file)):\n",
    "        os.remove(str(stat_file))\n",
    "        print(\"Delete {}\".format(str(stat_file)))\n",
    "    else:\n",
    "        print(\"{} does not exist\".format(str(stat_file)))\n",
    "\n",
    "    if os.path.exists(str(FCFSQueue_file)):\n",
    "        os.remove(str(FCFSQueue_file))\n",
    "        print(\"Delete {}\".format(str(FCFSQueue_file)))\n",
    "    else:\n",
    "        print(\"{} does not exist\".format(str(FCFSQueue_file)))\n",
    "\n",
    "    if os.path.exists(str(RRQueue_file)):\n",
    "        os.remove(str(RRQueue_file))\n",
    "        print(\"Delete {}\".format(str(RRQueue_file)))\n",
    "    else:\n",
    "        print(\"{} does not exist\".format(str(RRQueue_file)))"
   ]
  },
  {
   "cell_type": "markdown",
   "id": "713f3a16",
   "metadata": {},
   "source": [
    "### CLASS FOR IMPLEMENTATION"
   ]
  },
  {
   "cell_type": "code",
   "execution_count": 604,
   "id": "9773e535",
   "metadata": {},
   "outputs": [],
   "source": [
    "class Job:\n",
    "    def __init__(self, id, arrival_time, burst_time, priority):\n",
    "        self.id = id\n",
    "        self.arrival_time = arrival_time\n",
    "        self.last_time_in_CPU = arrival_time\n",
    "        self.saved_burst_time = burst_time\n",
    "        self.burst_time = burst_time\n",
    "        self.priority = priority\n",
    "        self.turn_around_time = 0\n",
    "        self.waiting_time = 0\n",
    "        self.response_time = -1"
   ]
  },
  {
   "cell_type": "code",
   "execution_count": 605,
   "id": "f97eab82",
   "metadata": {},
   "outputs": [],
   "source": [
    "class JobGenerator:\n",
    "    def __init__(self, env):\n",
    "        self.env = env\n",
    "        self.inter_arrivaltime = 1 / LAMBDA\n",
    "        self.service_time = 1 / MU\n",
    "\n",
    "    def generate_job(self, mode, cpu_scheduling):\n",
    "        i = 0\n",
    "        while True:\n",
    "            # MODE 0 - EVEN PROCESSES GO TO FCFS QUEUE, ODD PROCESSES GO TO RR\n",
    "            if mode == 0:\n",
    "                yield self.env.timeout(9)\n",
    "                if i % 2 == 0:\n",
    "                    cpu_scheduling.handle_arrival_job(Job(i, self.env.now, 10, 0))\n",
    "                else:\n",
    "                    cpu_scheduling.handle_arrival_job(Job(i, self.env.now, 10, 1))\n",
    "                i += 1\n",
    "                \n",
    "           # MODE 1,2,3 - ADD PROCRESSES TO RR QUEUE, CHANGING BURST TIME FOR OBSERVATION \n",
    "            elif mode == 1:\n",
    "                yield self.env.timeout(15)\n",
    "                cpu_scheduling.handle_arrival_job(Job(i, self.env.now, 10, 0))\n",
    "                i += 1\n",
    "            elif mode == 2:\n",
    "                yield self.env.timeout(15)\n",
    "                cpu_scheduling.handle_arrival_job(Job(i, self.env.now, 15, 0))\n",
    "                i += 1\n",
    "            elif mode == 3:\n",
    "                yield self.env.timeout(15)\n",
    "                cpu_scheduling.handle_arrival_job(Job(i, self.env.now, 20, 0))\n",
    "                i += 1\n",
    "                \n",
    "            # MODE 4 - ADD PROCRESSES WITH RANDOM DURATION AND RANDOM PRIORITY\n",
    "            elif mode == 4:\n",
    "                job_interarrival = math.trunc(random.exponential(self.inter_arrivaltime) * 100)\n",
    "                yield env.timeout(job_interarrival)\n",
    "                job_duration = math.trunc(random.exponential(self.service_time) * 100) + 1\n",
    "                priority = random.randint(0, 2)\n",
    "                cpu_scheduling.handle_arrival_job(Job(i, self.env.now, job_duration, priority))\n",
    "                i += 1\n",
    "                \n",
    "            # MODE 5 -\n",
    "            elif mode == 5:\n",
    "                max_long_job = random.randint(3,5)\n",
    "                n = 0\n",
    "                while (n < max_long_job): \n",
    "                    job_interarrival = math.trunc(random.exponential(self.inter_arrivaltime) *100)\n",
    "                    yield env.timeout(job_interarrival)\n",
    "                    job_duration = math.trunc(random.exponential(self.service_time) * 100) + 1 \n",
    "                    priority = 1\n",
    "                    cpu_scheduling.handle_arrival_job(Job(i, self.env.now, job_duration, priority))\n",
    "                    i += 1\n",
    "                    n += 1\n",
    "                job_interarrival = math.trunc(random.exponential(self.inter_arrivaltime) *100)\n",
    "                job_duration = math.trunc(random.exponential(self.service_time)*100) + 0.5\n",
    "                priority = 0\n",
    "                cpu_scheduling.handle_arrival_job(Job(i, self.env.now, job_duration, priority))\n",
    "                i += 1\n",
    "                \n",
    "            # MODE 6 - ADDING PROCESS TO FCFS QUEUE WITHOUT RR QUEUE\n",
    "            elif mode == 6:\n",
    "                yield self.env.timeout(15)\n",
    "                cpu_scheduling.handle_arrival_job(Job(i, self.env.now, 30, 1))\n",
    "                i += 1\n",
    "                \n",
    "            # MODE 7\n",
    "            elif mode == 7:\n",
    "                job_interarrival = math.trunc(random.exponential(self.inter_arrivaltime) *200)\n",
    "                yield env.timeout(job_interarrival)\n",
    "                job_duration = math.trunc(random.exponential(self.service_time) * 200) + 3\n",
    "                priority = 1\n",
    "                cpu_scheduling.handle_arrival_job(Job(i, self.env.now, job_duration, priority))\n",
    "                i += 1\n",
    "                max_long_job = random.randint(3,7)\n",
    "                n = 0\n",
    "                while (n < max_long_job): \n",
    "                    job_interarrival = math.trunc(random.exponential(self.inter_arrivaltime) *200)\n",
    "                    job_duration = math.trunc(random.exponential(self.service_time)*200) + 0.25\n",
    "                    priority = 0\n",
    "                    cpu_scheduling.handle_arrival_job(Job(i, self.env.now, job_duration, priority))\n",
    "                    i += 1\n",
    "                    n += 1\n",
    "                "
   ]
  },
  {
   "cell_type": "code",
   "execution_count": 606,
   "id": "bc82e87e",
   "metadata": {},
   "outputs": [],
   "source": [
    "class CPU:\n",
    "    def __init__(self, env):\n",
    "        self.env = env\n",
    "        self.job_arrival_interrupt = env.event()\n",
    "        self.idle_time = 0\n",
    "\n",
    "    def serve(self, time, job):\n",
    "        write_to_file(log_file, self.env.now, \"CPU\", \"CPU is GIVEN TO process {}\".format(job.id))\n",
    "        try:\n",
    "            yield self.env.timeout(time)\n",
    "        except simpy.Interrupt as i:\n",
    "            print(\"Interrupt: \" + i.cause)\n",
    "        write_to_file(log_file, self.env.now, \"CPU\", \"Process {} LEAVE the CPU\".format(job.id))\n",
    "        job.last_time_in_CPU = self.env.now\n",
    "\n",
    "    def idle(self):\n",
    "        # print(\"{} cpu is idle\".format(self.env.now))\n",
    "        write_to_file(log_file, self.env.now, \"CPU\", \"CPU is IDLE\")\n",
    "        t1 = self.env.now\n",
    "        yield self.job_arrival_interrupt\n",
    "        self.idle_time += (self.env.now - t1)"
   ]
  },
  {
   "cell_type": "code",
   "execution_count": 607,
   "id": "52888490",
   "metadata": {},
   "outputs": [],
   "source": [
    "class CpuScheduling:\n",
    "    def __init__(self, env, quantum_time=5):\n",
    "        self.env = env\n",
    "        self.quantum_time = quantum_time\n",
    "        self.RR_queue = []\n",
    "        self.FCFS_queue = []\n",
    "        self.CPU = CPU(self.env)\n",
    "\n",
    "    def handle_arrival_job(self, job):\n",
    "        if job.priority == 0:\n",
    "            # print(\"{}: Receive 1 job with priority 0\".format(self.env.now))\n",
    "            '''put this job to RR queue'''\n",
    "            write_to_file(log_file, self.env.now, \"RR queue\", \"Process {} burst time {} to RR queue\".format(job.id, job.burst_time))\n",
    "            self.RR_queue.append(job)\n",
    "            write_queue_to_file(queue_file, self.env.now, \"RR queue\", self.RR_queue)\n",
    "            write_job_in_queue(RRQueue_file, self.env.now, len(self.RR_queue))\n",
    "        elif job.priority == 1:\n",
    "            # print(\"{}: Receive 1 job with priority 1\".format(self.env.now))\n",
    "            '''put this job to FCFS queue'''\n",
    "            write_to_file(log_file, self.env.now, \"FCFS queue\", \"Process {} burst time {} to FCFS queue\".format(job.id, job.burst_time))\n",
    "            self.FCFS_queue.append(job)\n",
    "            write_queue_to_file(queue_file, self.env.now, \"FCFS queue\", self.FCFS_queue)\n",
    "            write_job_in_queue(FCFSQueue_file, self.env.now, len(self.FCFS_queue))\n",
    "\n",
    "        self.CPU.job_arrival_interrupt.succeed()\n",
    "        self.CPU.job_arrival_interrupt = self.env.event()\n",
    "\n",
    "    def schedule(self):\n",
    "        while True:\n",
    "            '''check if there are any processes are waiting to be executed'''\n",
    "            if (len(self.RR_queue) != 0) or (len(self.FCFS_queue) != 0):\n",
    "\n",
    "                '''Execute all processes in RR queue'''\n",
    "                while len(self.RR_queue) != 0:\n",
    "                    write_queue_to_file(queue_file, self.env.now, \"RR queue\", self.RR_queue)\n",
    "                    '''Get the process of out the queue'''\n",
    "                    my_job = self.RR_queue.pop(0)\n",
    "                    write_job_in_queue(RRQueue_file, self.env.now, len(self.RR_queue))\n",
    "\n",
    "                    '''Calculate statistics of the process'''\n",
    "                    if my_job.response_time == -1:\n",
    "                        my_job.response_time = self.env.now - my_job.arrival_time\n",
    "                    my_job.waiting_time += (self.env.now - my_job.last_time_in_CPU)\n",
    "\n",
    "                    '''calculate duration for this process in RR algorithm'''\n",
    "                    duration = min(self.quantum_time, my_job.burst_time)\n",
    "                    yield self.env.process(self.CPU.serve(duration, my_job))\n",
    "                    my_job.burst_time -= duration\n",
    "\n",
    "                    '''Check if the process finishes or not'''\n",
    "                    if my_job.burst_time > 0:\n",
    "                        my_job.priority += 1\n",
    "                        self.FCFS_queue.append(my_job)\n",
    "                        write_to_file(log_file, self.env.now, \"FCFS queue\", \"Process {} burst time {} to FCFS queue\".format(my_job.id, my_job.burst_time))\n",
    "                        write_queue_to_file(queue_file, self.env.now, \"FCFS queue\", self.FCFS_queue)\n",
    "                        write_job_in_queue(FCFSQueue_file, self.env.now, len(self.FCFS_queue))\n",
    "                    else:\n",
    "                        '''Yes, this process finish. We calculate some other statistics'''\n",
    "                        my_job.turn_around_time = self.env.now - my_job.arrival_time\n",
    "                        assert my_job.turn_around_time == my_job.saved_burst_time + my_job.waiting_time\n",
    "                        write_statistic_to_file(stat_file, my_job)\n",
    "\n",
    "                ''' Execuet all process in FCFS queue'''\n",
    "                while len(self.FCFS_queue) != 0:\n",
    "                    write_queue_to_file(queue_file, self.env.now, \"FCFS queue\", self.FCFS_queue)\n",
    "                    '''Get the process of out the queue'''\n",
    "                    my_job = self.FCFS_queue.pop(0)\n",
    "                    write_job_in_queue(FCFSQueue_file, self.env.now, len(self.FCFS_queue))\n",
    "\n",
    "                    '''Calculate some statistics of the process'''\n",
    "                    if my_job.response_time == -1:\n",
    "                        my_job.response_time = self.env.now - my_job.arrival_time\n",
    "                    my_job.waiting_time += (self.env.now - my_job.last_time_in_CPU)\n",
    "\n",
    "                    '''In process with lower priority could be preempted by higher priority process'''\n",
    "                    t1 = self.env.now\n",
    "                    serve_proc = self.env.process(self.CPU.serve(my_job.burst_time, my_job))\n",
    "\n",
    "                    '''wait for the process to finish or there is interrupt because\n",
    "                       there is higher priority process comes'''\n",
    "                    results = yield serve_proc | self.CPU.job_arrival_interrupt\n",
    "\n",
    "                    '''Check if our process completely finishes or be interrupted by higher priority process'''\n",
    "                    if serve_proc not in results:\n",
    "                        serve_proc.interrupt(\"Higher priority process comes!\")\n",
    "                        interval = self.env.now - t1\n",
    "                        my_job.burst_time -= interval\n",
    "\n",
    "                        '''put the interrupted process back into FCFS queue and break'''\n",
    "                        self.FCFS_queue.append(my_job)\n",
    "                        write_to_file(log_file, self.env.now, \"FCFS queue\", \"Process {} burst time {} to FCFS queue\".format(my_job.id, my_job.burst_time))\n",
    "                        write_queue_to_file(queue_file, self.env.now, \"FCFS queue\", self.FCFS_queue)\n",
    "                        write_job_in_queue(FCFSQueue_file, self.env.now, len(self.FCFS_queue))\n",
    "                        break\n",
    "                    else:\n",
    "                        '''there is no process with higher priority comes and the process completely finish.\n",
    "                            We calculate some statistics for this process'''\n",
    "                        my_job.turn_around_time = self.env.now - my_job.arrival_time\n",
    "                        assert my_job.turn_around_time == my_job.saved_burst_time + my_job.waiting_time\n",
    "                        write_statistic_to_file(stat_file, my_job)\n",
    "            else:\n",
    "                '''No process wait, therefore the CPU will go to IDLE state'''\n",
    "                yield self.env.process(self.CPU.idle())"
   ]
  },
  {
   "cell_type": "code",
   "execution_count": 608,
   "id": "517e150e",
   "metadata": {},
   "outputs": [],
   "source": [
    "class Simulation:\n",
    "    def __init__(self, env):\n",
    "        self.my_job_generator = JobGenerator(env)\n",
    "        self.my_cpu_scheduling = CpuScheduling(env, QUANTUM_TIME)\n",
    "\n",
    "    def simulate(self):\n",
    "        env.process(self.my_job_generator.generate_job(GENERATE_MODE, self.my_cpu_scheduling))\n",
    "        env.process(self.my_cpu_scheduling.schedule())"
   ]
  },
  {
   "cell_type": "markdown",
   "id": "7b692f41",
   "metadata": {},
   "source": [
    "### BEGIN SIMULATION"
   ]
  },
  {
   "cell_type": "code",
   "execution_count": 609,
   "id": "5badac19",
   "metadata": {},
   "outputs": [
    {
     "name": "stdout",
     "output_type": "stream",
     "text": [
      "./output/mode6\n",
      "Interrupt: Higher priority process comes!\n",
      "Interrupt: Higher priority process comes!\n",
      "Interrupt: Higher priority process comes!\n",
      "Interrupt: Higher priority process comes!\n",
      "Interrupt: Higher priority process comes!\n",
      "Interrupt: Higher priority process comes!\n",
      "Interrupt: Higher priority process comes!\n",
      "Interrupt: Higher priority process comes!\n",
      "Interrupt: Higher priority process comes!\n",
      "Interrupt: Higher priority process comes!\n",
      "Interrupt: Higher priority process comes!\n",
      "Interrupt: Higher priority process comes!\n",
      "Interrupt: Higher priority process comes!\n",
      "Interrupt: Higher priority process comes!\n",
      "Interrupt: Higher priority process comes!\n",
      "Interrupt: Higher priority process comes!\n",
      "Interrupt: Higher priority process comes!\n",
      "Interrupt: Higher priority process comes!\n",
      "Interrupt: Higher priority process comes!\n",
      "Interrupt: Higher priority process comes!\n",
      "Interrupt: Higher priority process comes!\n",
      "Interrupt: Higher priority process comes!\n",
      "Interrupt: Higher priority process comes!\n",
      "Interrupt: Higher priority process comes!\n",
      "Interrupt: Higher priority process comes!\n",
      "Interrupt: Higher priority process comes!\n",
      "Interrupt: Higher priority process comes!\n",
      "Interrupt: Higher priority process comes!\n",
      "Interrupt: Higher priority process comes!\n",
      "Interrupt: Higher priority process comes!\n",
      "Interrupt: Higher priority process comes!\n",
      "Interrupt: Higher priority process comes!\n",
      "Interrupt: Higher priority process comes!\n",
      "Interrupt: Higher priority process comes!\n",
      "Interrupt: Higher priority process comes!\n",
      "Interrupt: Higher priority process comes!\n",
      "Interrupt: Higher priority process comes!\n",
      "Interrupt: Higher priority process comes!\n",
      "Interrupt: Higher priority process comes!\n",
      "Interrupt: Higher priority process comes!\n",
      "Interrupt: Higher priority process comes!\n"
     ]
    }
   ],
   "source": [
    "\n",
    "print(path_file)\n",
    "\n",
    "env = simpy.Environment()\n",
    "sim = Simulation(env)\n",
    "sim.simulate()\n",
    "env.run(until=1000)\n"
   ]
  },
  {
   "cell_type": "markdown",
   "id": "3e724ca6",
   "metadata": {},
   "source": [
    "### BEGIN PLOTTING "
   ]
  },
  {
   "cell_type": "code",
   "execution_count": 610,
   "id": "033ca3d8",
   "metadata": {},
   "outputs": [
    {
     "name": "stdout",
     "output_type": "stream",
     "text": [
      "             time      Amount\n",
      "count  173.000000  173.000000\n",
      "mean   504.624277   20.953757\n",
      "std    286.929926   11.839437\n",
      "min     15.000000    0.000000\n",
      "25%    255.000000   11.000000\n",
      "50%    510.000000   21.000000\n",
      "75%    750.000000   31.000000\n",
      "max    990.000000   42.000000\n"
     ]
    }
   ],
   "source": [
    "with open(FCFSQueue_file) as f:\n",
    "    line = f.readlines()\n",
    "    f.close()\n",
    "if len(line) > 0:\n",
    "    FCFS_df = pd.read_csv(FCFSQueue_file)\n",
    "    haveFCFS = 1\n",
    "    print(FCFS_df.describe())\n",
    "else:\n",
    "    haveFCFS = 0\n",
    "    print(\"First Come First Serve Queue file empty\")\n",
    "\n"
   ]
  },
  {
   "cell_type": "code",
   "execution_count": 611,
   "id": "d2fabeea",
   "metadata": {},
   "outputs": [
    {
     "name": "stdout",
     "output_type": "stream",
     "text": [
      "Round Robin Queue file empty\n"
     ]
    }
   ],
   "source": [
    "with open(RRQueue_file) as f:\n",
    "    line = f.readlines()\n",
    "    f.close()\n",
    "if len(line) > 0:\n",
    "    RR_df = pd.read_csv(RRQueue_file)\n",
    "    haveRR = 1\n",
    "    print(RR_df.describe())\n",
    "else:\n",
    "    haveRR = 0\n",
    "    print(\"Round Robin Queue file empty\")\n"
   ]
  },
  {
   "cell_type": "markdown",
   "id": "4ab8cfb8",
   "metadata": {},
   "source": [
    "### NUMBER OF PROCESS IN QUEUE PLOTTING"
   ]
  },
  {
   "cell_type": "code",
   "execution_count": 612,
   "id": "9a749199",
   "metadata": {
    "scrolled": true
   },
   "outputs": [
    {
     "name": "stdout",
     "output_type": "stream",
     "text": [
      "Ploting with First Come First Serve Data\n"
     ]
    },
    {
     "data": {
      "image/png": "[encoded data removed]",
      "text/plain": [
       "<Figure size 1296x648 with 1 Axes>"
      ]
     },
     "metadata": {
      "needs_background": "light"
     },
     "output_type": "display_data"
    }
   ],
   "source": [
    "if haveRR and haveFCFS:\n",
    "    print(\"Ploting with Round Robin Data and FCFS Data\")\n",
    "    plt.figure(figsize=(18,9), layout='constrained')\n",
    "    plt.bar(FCFS_df[\"time\"], FCFS_df[\"Amount\"], label='Number of Process in FCFS Queue', width = 2)\n",
    "    plt.bar(RR_df[\"time\"], RR_df[\"Amount\"], label='Number of Process in RR Queue', width = 2)\n",
    "    plt.xlabel(\"Time Unit\", fontsize = 15)\n",
    "    plt.ylabel(\"Processes\", fontsize = 15)\n",
    "    plt.title(\"Number of processes in queue - Mode {}\".format(GENERATE_MODE), fontsize = 20)\n",
    "    plt.grid(True)\n",
    "    plt.legend()\n",
    "    plt.savefig(\"{}/stat_barplot_mode {}.png\".format(path_file, GENERATE_MODE), )\n",
    "elif haveRR and not haveFCFS:\n",
    "    print(\"Ploting with Round Robin Data\")\n",
    "    plt.figure(figsize=(18,9), layout='constrained')\n",
    "    plt.bar(RR_df[\"time\"], RR_df[\"Amount\"], label='Number of Process in FCFS Queue', width = 2)\n",
    "    plt.xlabel(\"Time Unit\", fontsize = 15)\n",
    "    plt.ylabel(\"Processes\", fontsize = 15)\n",
    "    plt.title(\"Number of processes in queue - Mode {}\".format(GENERATE_MODE), fontsize = 20)\n",
    "    plt.grid(True)\n",
    "    plt.legend()\n",
    "    plt.savefig(\"{}/stat_barplot_mode{}.png\".format(path_file, GENERATE_MODE))\n",
    "elif haveFCFS and not haveRR:\n",
    "    print(\"Ploting with First Come First Serve Data\")\n",
    "    plt.figure(figsize=(18,9), layout='constrained')\n",
    "    plt.bar(FCFS_df[\"time\"], FCFS_df[\"Amount\"], label='Number of Process in FCFS Queue', width = 2)\n",
    "    plt.xlabel(\"Time Unit\", fontsize = 15)\n",
    "    plt.ylabel(\"Processes\", fontsize = 15)\n",
    "    plt.title(\"Number of processes in queue - Mode {}\".format(GENERATE_MODE), fontsize = 20)\n",
    "    plt.grid(True)\n",
    "    plt.legend()\n",
    "    plt.savefig(\"{}/stat_barplot_mode{}.png\".format(path_file, GENERATE_MODE))\n",
    "else: print(\"Both files empty\")"
   ]
  },
  {
   "cell_type": "markdown",
   "id": "a1b52cc7",
   "metadata": {},
   "source": [
    "### FREQUENCY OF NUMBER OF PROCESS IN QUEUE PLOTTING "
   ]
  },
  {
   "cell_type": "code",
   "execution_count": 616,
   "id": "b29b8be7",
   "metadata": {},
   "outputs": [
    {
     "name": "stdout",
     "output_type": "stream",
     "text": [
      "Ploting with First Come First Serve Data\n"
     ]
    },
    {
     "data": {
      "image/png": "[encoded data removed]",
      "text/plain": [
       "<Figure size 1296x648 with 1 Axes>"
      ]
     },
     "metadata": {
      "needs_background": "light"
     },
     "output_type": "display_data"
    }
   ],
   "source": [
    "if haveRR and haveFCFS:\n",
    "    print(\"Ploting with Round Robin Data and FCFS Data\")\n",
    "    if (FCFS_df[\"Amount\"].nunique() > RR_df[\"Amount\"].nunique()):\n",
    "        bin_value = FCFS_df[\"Amount\"].nunique() - 1\n",
    "    else:\n",
    "        bin_value = RR_df[\"Amount\"].nunique() -1\n",
    "\n",
    "    plt.figure(figsize=(18,9), layout='constrained')\n",
    "    plt.hist([FCFS_df[\"Amount\"], RR_df[\"Amount\"]], bins = bin_value, label = [\"FCFS Queue\", \"RR Queue\"])\n",
    "    plt.xlabel(\"Processes in Queue\", fontsize = 15)\n",
    "    plt.ylabel(\"Frequency\", fontsize = 15)\n",
    "    plt.grid(True)\n",
    "    plt.title(\"Frequency of Processes in queue - Mode {}\".format(GENERATE_MODE), fontsize = 20)\n",
    "    plt.legend(prop ={'size': 20})\n",
    "    plt.savefig(\"{}/stat_histplot_mode{}.png\".format(path_file, GENERATE_MODE))\n",
    "elif haveRR and not haveFCFS:\n",
    "    print(\"Ploting with Round Robin Data\")\n",
    "    bin_value = RR_df[\"Amount\"].nunique() -1\n",
    "    plt.figure(figsize=(18,9), layout='constrained')\n",
    "    plt.hist(RR_df[\"Amount\"], bins = bin_value, label = \"RR Queue\")\n",
    "    plt.xlabel(\"Processes in Queue\", fontsize = 15)\n",
    "    plt.ylabel(\"Frequency\", fontsize = 15)\n",
    "    plt.grid(True)\n",
    "    plt.title(\"Frequency of Processes in queue - Mode {}\".format(GENERATE_MODE), fontsize = 20)\n",
    "    plt.legend(prop ={'size': 20})\n",
    "    plt.savefig(\"{}/stat_histplot_mode{}.png\".format(path_file, GENERATE_MODE))\n",
    "elif haveFCFS and not haveRR:\n",
    "    print(\"Ploting with First Come First Serve Data\")\n",
    "    bin_value = FCFS_df[\"Amount\"].nunique() -1\n",
    "    plt.figure(figsize=(18,9), layout='constrained')\n",
    "    plt.hist(FCFS_df[\"Amount\"], bins = bin_value, label = \"FCFS Queue\")\n",
    "    plt.xlabel(\"Processes in Queue\", fontsize = 15)\n",
    "    plt.ylabel(\"Frequency\", fontsize = 15)\n",
    "    plt.grid(True)\n",
    "    plt.title(\"Frequency of Processes in queue - Mode {}\".format(GENERATE_MODE), fontsize = 20)\n",
    "    plt.grid(True)\n",
    "    plt.legend(prop ={'size': 20})\n",
    "    plt.savefig(\"{}/stat_histplot_mode{}.png\".format(path_file, GENERATE_MODE))\n",
    "else: print(\"Both files empty\")\n",
    "    \n",
    "\n"
   ]
  },
  {
   "cell_type": "markdown",
   "id": "a7799d29",
   "metadata": {},
   "source": [
    "### DELETE CSV IF NECESSARY"
   ]
  },
  {
   "cell_type": "code",
   "execution_count": 614,
   "id": "52468f66",
   "metadata": {},
   "outputs": [],
   "source": [
    "# deleteCSV()"
   ]
  },
  {
   "cell_type": "markdown",
   "id": "3dd3e473",
   "metadata": {},
   "source": [
    "## 7. Evaluation"
   ]
  },
  {
   "cell_type": "markdown",
   "id": "320078e5",
   "metadata": {},
   "source": [
    "#### Mode 1,2,3 Evaluation\n",
    "\n",
    "In Mode 1,2,3 we changed the burst time for observation (10, 15, 20 respectively)"
   ]
  },
  {
   "cell_type": "markdown",
   "id": "58a432ad",
   "metadata": {},
   "source": [
    "## 8. Conclusion"
   ]
  },
  {
   "cell_type": "code",
   "execution_count": null,
   "id": "7a741d3c",
   "metadata": {},
   "outputs": [],
   "source": []
  }
 ],
 "metadata": {
  "kernelspec": {
   "display_name": "Python 3 (ipykernel)",
   "language": "python",
   "name": "python3"
  },
  "language_info": {
   "codemirror_mode": {
    "name": "ipython",
    "version": 3
   },
   "file_extension": ".py",
   "mimetype": "text/x-python",
   "name": "python",
   "nbconvert_exporter": "python",
   "pygments_lexer": "ipython3",
   "version": "3.10.4"
  }
 },
 "nbformat": 4,
 "nbformat_minor": 5
}

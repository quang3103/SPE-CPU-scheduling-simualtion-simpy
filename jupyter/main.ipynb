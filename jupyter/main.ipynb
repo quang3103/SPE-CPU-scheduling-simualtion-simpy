{
 "cells": [
  {
   "cell_type": "code",
   "execution_count": 137,
   "id": "f493f8af",
   "metadata": {},
   "outputs": [
    {
     "name": "stdout",
     "output_type": "stream",
     "text": [
      "Requirement already satisfied: pandas in c:\\users\\pmt12\\appdata\\local\\programs\\python\\python310\\lib\\site-packages (1.4.2)\n",
      "Requirement already satisfied: numpy>=1.21.0 in c:\\users\\pmt12\\appdata\\local\\programs\\python\\python310\\lib\\site-packages (from pandas) (1.22.3)\n",
      "Requirement already satisfied: pytz>=2020.1 in c:\\users\\pmt12\\appdata\\local\\programs\\python\\python310\\lib\\site-packages (from pandas) (2022.1)\n",
      "Requirement already satisfied: python-dateutil>=2.8.1 in c:\\users\\pmt12\\appdata\\local\\programs\\python\\python310\\lib\\site-packages (from pandas) (2.8.2)\n",
      "Requirement already satisfied: six>=1.5 in c:\\users\\pmt12\\appdata\\local\\programs\\python\\python310\\lib\\site-packages (from python-dateutil>=2.8.1->pandas) (1.16.0)\n"
     ]
    }
   ],
   "source": [
    "!pip install pandas"
   ]
  },
  {
   "cell_type": "code",
   "execution_count": 138,
   "id": "dac636e2",
   "metadata": {},
   "outputs": [],
   "source": [
    "import simpy\n",
    "import numpy.random as random\n",
    "import math\n",
    "import pandas as pd\n",
    "import matplotlib.pyplot as plt\n",
    "import os"
   ]
  },
  {
   "cell_type": "markdown",
   "id": "ac0a0859",
   "metadata": {},
   "source": [
    "# INITIALIZE PARAMETERS"
   ]
  },
  {
   "cell_type": "code",
   "execution_count": 139,
   "id": "5a26caf4",
   "metadata": {},
   "outputs": [],
   "source": [
    "LAMBDA = 10\n",
    "MU = 20\n",
    "QUANTUM_TIME = 10\n",
    "GENERATE_MODE = 0"
   ]
  },
  {
   "cell_type": "markdown",
   "id": "e92cdaab",
   "metadata": {},
   "source": [
    "# FORMAT PATHFILE"
   ]
  },
  {
   "cell_type": "code",
   "execution_count": 140,
   "id": "fce6d45b",
   "metadata": {},
   "outputs": [],
   "source": [
    "path_file = \"./output/mode{}\".format(GENERATE_MODE)\n",
    "log_file = open(\"{}/log.txt\".format(path_file), \"w\")\n",
    "queue_file = open(\"{}/queue.txt\".format(path_file), \"w\")\n",
    "\n",
    "stat_file = \"{}/stat.csv\".format(path_file)\n",
    "FCFSQueue_file = \"{}/FCFSQueue.csv\".format(path_file)\n",
    "RRQueue_file = \"{}/RRQueue.csv\".format(path_file)\n"
   ]
  },
  {
   "cell_type": "markdown",
   "id": "fc5320ff",
   "metadata": {},
   "source": [
    "# CREATE STATISTIC FILE"
   ]
  },
  {
   "cell_type": "code",
   "execution_count": 141,
   "id": "7abb9efe",
   "metadata": {},
   "outputs": [],
   "source": [
    "open(stat_file, 'w').close()\n",
    "open(RRQueue_file, 'w').close()\n",
    "open(FCFSQueue_file, 'w').close()"
   ]
  },
  {
   "cell_type": "markdown",
   "id": "3342b6ea",
   "metadata": {},
   "source": [
    "### CREATE TIME STATISTICS FILE"
   ]
  },
  {
   "cell_type": "code",
   "execution_count": 142,
   "id": "26584331",
   "metadata": {},
   "outputs": [],
   "source": [
    "RR_time_stat_file = \"{}/RR_time_stat_{}.csv\".format(path_file, GENERATE_MODE)\n",
    "FCFS_time_stat_file = \"{}/FCFS_time_stat_{}.csv\".format(path_file, GENERATE_MODE)\n",
    "#CREATE TIME STATISTICS FILE IF NOT EXIST\n",
    "if not os.path.exists(str(RR_time_stat_file)):\n",
    "    open(RR_time_stat_file, 'w').close()\n",
    "    \n",
    "if not os.path.exists(str(FCFS_time_stat_file)):\n",
    "    open(FCFS_time_stat_file, 'w').close()\n"
   ]
  },
  {
   "cell_type": "markdown",
   "id": "1f517ca8",
   "metadata": {},
   "source": [
    "# Begin Implemented Function"
   ]
  },
  {
   "cell_type": "code",
   "execution_count": 143,
   "id": "ee770eb6",
   "metadata": {},
   "outputs": [],
   "source": [
    "def write_to_file(path_to_file, time, who, msg):\n",
    "    path_to_file.write(\"{}:{}{}:{}{}\\n\".format(time, \" \" * (10 - len(str(time))), who, \" \" * (20 - len(who)), msg))\n",
    "    path_to_file.write(\"\\n\")"
   ]
  },
  {
   "cell_type": "code",
   "execution_count": 144,
   "id": "7e9a84d2",
   "metadata": {},
   "outputs": [],
   "source": [
    "def write_queue_to_file(path_to_file, time, which, queue):\n",
    "    path_to_file.write(\"{}:{}{}: \".format(time, \" \" * (10 - len(str(time))), which, \" \" * (20 - len(which))))\n",
    "    for job in queue:\n",
    "        path_to_file.write(str(job.id) + \" \")\n",
    "    path_to_file.write(\"\\n\")"
   ]
  },
  {
   "cell_type": "code",
   "execution_count": 145,
   "id": "8cf5db27",
   "metadata": {},
   "outputs": [],
   "source": [
    "# def write_statistic_to_file(file, job):\n",
    "#      file.write(\"process:{},arrival:{},burst_time:{},turn_around:{},response:{},waiting:{}\\n\".format(job.id, job.arrival_time, job.saved_burst_time, job.turn_around_time, job.response_time, job.waiting_time))"
   ]
  },
  {
   "cell_type": "markdown",
   "id": "4fb34be1",
   "metadata": {},
   "source": [
    "## Write Job Statistic to certain file"
   ]
  },
  {
   "cell_type": "code",
   "execution_count": 146,
   "id": "0ee5e8a6",
   "metadata": {},
   "outputs": [],
   "source": [
    "def write_statistic_to_file(path_to_file, job):\n",
    "    process = [job.id]\n",
    "    arr_time = [job.arrival_time]\n",
    "    saved_burst_time = [job.saved_burst_time]\n",
    "    turn_arround_time = [job.turn_around_time]\n",
    "    response_time = [job.response_time]\n",
    "    waiting_time = [job.waiting_time]\n",
    "    \n",
    "    df = pd.DataFrame(data={\"process\": process, \n",
    "                            \"arrival\": arr_time, \n",
    "                            \"burst_time\": saved_burst_time, \n",
    "                            \"turn_arround\": turn_arround_time, \n",
    "                            \"response_time\": response_time, \n",
    "                            \"waiting_time\": waiting_time})\n",
    "    with open(path_to_file) as f:\n",
    "        line = f.readlines()\n",
    "        f.close()\n",
    "    if len(line) > 0:\n",
    "        df.to_csv(path_to_file, mode ='a', index = False, header= False)\n",
    "    else:\n",
    "        df.to_csv(path_to_file, mode ='a', index = False, header= True)"
   ]
  },
  {
   "cell_type": "markdown",
   "id": "ff876bb8",
   "metadata": {},
   "source": [
    "## Statistic of job\n",
    "### Based on time and number of process at certain time slot"
   ]
  },
  {
   "cell_type": "code",
   "execution_count": 147,
   "id": "25ee7631",
   "metadata": {},
   "outputs": [],
   "source": [
    "def write_job_in_queue(path_to_file, time, numberOfprocess):\n",
    "    time = [time]\n",
    "    number = [numberOfprocess]\n",
    "    \n",
    "    df = pd.DataFrame(data ={\"time\": time,\n",
    "                             \"Amount\": number})\n",
    "    with open(path_to_file) as f:\n",
    "        line = f.readlines()\n",
    "        f.close()\n",
    "    if len(line) > 0:\n",
    "        df.to_csv(path_to_file, mode ='a', index = False, header= False)\n",
    "    else:\n",
    "        df.to_csv(path_to_file, mode ='a', index = False, header= True)"
   ]
  },
  {
   "cell_type": "markdown",
   "id": "1ae8f644",
   "metadata": {},
   "source": [
    "### Statistic of Burst Time, Turn Arround Time, Response Time and Waiting Time of the whole simulation"
   ]
  },
  {
   "cell_type": "code",
   "execution_count": 148,
   "id": "7d566881",
   "metadata": {},
   "outputs": [],
   "source": [
    "def time_statistic_to_file(stat_path_to_file, record_path_to_file):\n",
    "    stat_df = pd.read_csv(stat_path_to_file)\n",
    "    average_burst_time = stat_df.burst_time.mean()\n",
    "    average_turn_arround_time = stat_df.turn_arround.mean()\n",
    "    average_wating_time = stat_df.waiting_time.mean()\n",
    "    average_response_time = stat_df.response_time.mean()\n",
    "    \n",
    "    record_df = pd.DataFrame(data={ \"average_burst_time\": average_burst_time,\n",
    "                                    \"average_turn_arround_time\": average_turn_arround_time,\n",
    "                                    \"average_wating_time\": average_wating_time,\n",
    "                                    \"average_response_time\": average_response_time})\n",
    "    with open(record_path_to_file) as f:\n",
    "        line = f.readlines()\n",
    "        f.close()\n",
    "    if len(line) > 0:\n",
    "        record_df.to_csv(record_path_to_file, mode ='a', index = False, header= False)\n",
    "    else:\n",
    "        record_df.to_csv(record_path_to_file, mode ='a', index = False, header= True)"
   ]
  },
  {
   "cell_type": "code",
   "execution_count": 149,
   "id": "9773e535",
   "metadata": {},
   "outputs": [],
   "source": [
    "class Job:\n",
    "    def __init__(self, id, arrival_time, burst_time, priority):\n",
    "        self.id = id\n",
    "        self.arrival_time = arrival_time\n",
    "        self.last_time_in_CPU = arrival_time\n",
    "        self.saved_burst_time = burst_time\n",
    "        self.burst_time = burst_time\n",
    "        self.priority = priority\n",
    "        self.turn_around_time = 0\n",
    "        self.waiting_time = 0\n",
    "        self.response_time = -1"
   ]
  },
  {
   "cell_type": "code",
   "execution_count": 150,
   "id": "f97eab82",
   "metadata": {},
   "outputs": [],
   "source": [
    "class JobGenerator:\n",
    "    def __init__(self, env):\n",
    "        self.env = env\n",
    "        self.inter_arrivaltime = 1 / LAMBDA\n",
    "        self.service_time = 1 / MU\n",
    "\n",
    "    def generate_job(self, mode, cpu_scheduling):\n",
    "        i = 0\n",
    "        while True:\n",
    "            if mode == 0:\n",
    "                yield self.env.timeout(9)\n",
    "                if i % 2 == 0:\n",
    "                    cpu_scheduling.handle_arrival_job(Job(i, self.env.now, 10, 0))\n",
    "                else:\n",
    "                    cpu_scheduling.handle_arrival_job(Job(i, self.env.now, 10, 1))\n",
    "                i += 1\n",
    "            elif mode == 1:\n",
    "                yield self.env.timeout(15)\n",
    "                cpu_scheduling.handle_arrival_job(Job(i, self.env.now, 30, 0))\n",
    "                i += 1\n",
    "            elif mode == 2:\n",
    "                job_interarrival = math.trunc(random.exponential(self.inter_arrivaltime) * 100)\n",
    "                yield env.timeout(job_interarrival)\n",
    "                job_duration = math.trunc(random.exponential(self.service_time) * 100) + 1\n",
    "                priority = random.randint(0, 2)\n",
    "                cpu_scheduling.handle_arrival_job(Job(i, self.env.now, job_duration, priority))\n",
    "                i += 1\n",
    "           # elif mode == 3"
   ]
  },
  {
   "cell_type": "code",
   "execution_count": 151,
   "id": "bc82e87e",
   "metadata": {},
   "outputs": [],
   "source": [
    "class CPU:\n",
    "    def __init__(self, env):\n",
    "        self.env = env\n",
    "        self.job_arrival_interrupt = env.event()\n",
    "        self.idle_time = 0\n",
    "\n",
    "    def serve(self, time, job):\n",
    "        write_to_file(log_file, self.env.now, \"CPU\", \"CPU is GIVEN TO process {}\".format(job.id))\n",
    "        try:\n",
    "            yield self.env.timeout(time)\n",
    "        except simpy.Interrupt as i:\n",
    "            print(\"Interrupt: \" + i.cause)\n",
    "        write_to_file(log_file, self.env.now, \"CPU\", \"Process {} LEAVE the CPU\".format(job.id))\n",
    "        job.last_time_in_CPU = self.env.now\n",
    "\n",
    "    def idle(self):\n",
    "        # print(\"{} cpu is idle\".format(self.env.now))\n",
    "        write_to_file(log_file, self.env.now, \"CPU\", \"CPU is IDLE\")\n",
    "        t1 = self.env.now\n",
    "        yield self.job_arrival_interrupt\n",
    "        self.idle_time += (self.env.now - t1)"
   ]
  },
  {
   "cell_type": "code",
   "execution_count": 152,
   "id": "52888490",
   "metadata": {},
   "outputs": [],
   "source": [
    "class CpuScheduling:\n",
    "    def __init__(self, env, quantum_time=5):\n",
    "        self.env = env\n",
    "        self.quantum_time = quantum_time\n",
    "        self.RR_queue = []\n",
    "        self.FCFS_queue = []\n",
    "        self.CPU = CPU(self.env)\n",
    "\n",
    "    def handle_arrival_job(self, job):\n",
    "        if job.priority == 0:\n",
    "            # print(\"{}: Receive 1 job with priority 0\".format(self.env.now))\n",
    "            '''put this job to RR queue'''\n",
    "            write_to_file(log_file, self.env.now, \"RR queue\", \"Process {} burst time {} to RR queue\".format(job.id, job.burst_time))\n",
    "            self.RR_queue.append(job)\n",
    "            write_queue_to_file(queue_file, self.env.now, \"RR queue\", self.RR_queue)\n",
    "            write_job_in_queue(RRQueue_file, self.env.now, len(self.RR_queue))\n",
    "        elif job.priority == 1:\n",
    "            # print(\"{}: Receive 1 job with priority 1\".format(self.env.now))\n",
    "            '''put this job to FCFS queue'''\n",
    "            write_to_file(log_file, self.env.now, \"FCFS queue\", \"Process {} burst time {} to FCFS queue\".format(job.id, job.burst_time))\n",
    "            self.FCFS_queue.append(job)\n",
    "            write_queue_to_file(queue_file, self.env.now, \"FCFS queue\", self.FCFS_queue)\n",
    "            write_job_in_queue(FCFSQueue_file, self.env.now, len(self.FCFS_queue))\n",
    "\n",
    "        self.CPU.job_arrival_interrupt.succeed()\n",
    "        self.CPU.job_arrival_interrupt = self.env.event()\n",
    "\n",
    "    def schedule(self):\n",
    "        while True:\n",
    "            '''check if there are any processes are waiting to be executed'''\n",
    "            if (len(self.RR_queue) != 0) or (len(self.FCFS_queue) != 0):\n",
    "\n",
    "                '''Execute all processes in RR queue'''\n",
    "                while len(self.RR_queue) != 0:\n",
    "                    write_queue_to_file(queue_file, self.env.now, \"RR queue\", self.RR_queue)\n",
    "                    '''Get the process of out the queue'''\n",
    "                    my_job = self.RR_queue.pop(0)\n",
    "                    write_job_in_queue(RRQueue_file, self.env.now, len(self.RR_queue))\n",
    "\n",
    "                    '''Calculate statistics of the process'''\n",
    "                    if my_job.response_time == -1:\n",
    "                        my_job.response_time = self.env.now - my_job.arrival_time\n",
    "                    my_job.waiting_time += (self.env.now - my_job.last_time_in_CPU)\n",
    "\n",
    "                    '''calculate duration for this process in RR algorithm'''\n",
    "                    duration = min(self.quantum_time, my_job.burst_time)\n",
    "                    yield self.env.process(self.CPU.serve(duration, my_job))\n",
    "                    my_job.burst_time -= duration\n",
    "\n",
    "                    '''Check if the process finishes or not'''\n",
    "                    if my_job.burst_time > 0:\n",
    "                        my_job.priority += 1\n",
    "                        self.FCFS_queue.append(my_job)\n",
    "                        write_to_file(log_file, self.env.now, \"FCFS queue\", \"Process {} burst time {} to FCFS queue\".format(my_job.id, my_job.burst_time))\n",
    "                        write_queue_to_file(queue_file, self.env.now, \"FCFS queue\", self.FCFS_queue)\n",
    "                        write_job_in_queue(FCFSQueue_file, self.env.now, len(self.FCFS_queue))\n",
    "                    else:\n",
    "                        '''Yes, this process finish. We calculate some other statistics'''\n",
    "                        my_job.turn_around_time = self.env.now - my_job.arrival_time\n",
    "                        assert my_job.turn_around_time == my_job.saved_burst_time + my_job.waiting_time\n",
    "                        write_statistic_to_file(stat_file, my_job)\n",
    "\n",
    "                ''' Execuet all process in FCFS queue'''\n",
    "                while len(self.FCFS_queue) != 0:\n",
    "                    write_queue_to_file(queue_file, self.env.now, \"FCFS queue\", self.FCFS_queue)\n",
    "                    '''Get the process of out the queue'''\n",
    "                    my_job = self.FCFS_queue.pop(0)\n",
    "                    write_job_in_queue(FCFSQueue_file, self.env.now, len(self.FCFS_queue))\n",
    "\n",
    "                    '''Calculate some statistics of the process'''\n",
    "                    if my_job.response_time == -1:\n",
    "                        my_job.response_time = self.env.now - my_job.arrival_time\n",
    "                    my_job.waiting_time += (self.env.now - my_job.last_time_in_CPU)\n",
    "\n",
    "                    '''In process with lower priority could be preempted by higher priority process'''\n",
    "                    t1 = self.env.now\n",
    "                    serve_proc = self.env.process(self.CPU.serve(my_job.burst_time, my_job))\n",
    "\n",
    "                    '''wait for the process to finish or there is interrupt because\n",
    "                       there is higher priority process comes'''\n",
    "                    results = yield serve_proc | self.CPU.job_arrival_interrupt\n",
    "\n",
    "                    '''Check if our process completely finishes or be interrupted by higher priority process'''\n",
    "                    if serve_proc not in results:\n",
    "                        serve_proc.interrupt(\"Higher priority process comes!\")\n",
    "                        interval = self.env.now - t1\n",
    "                        my_job.burst_time -= interval\n",
    "\n",
    "                        '''put the interrupted process back into FCFS queue and break'''\n",
    "                        self.FCFS_queue.append(my_job)\n",
    "                        write_to_file(log_file, self.env.now, \"FCFS queue\", \"Process {} burst time {} to FCFS queue\".format(my_job.id, my_job.burst_time))\n",
    "                        write_queue_to_file(queue_file, self.env.now, \"FCFS queue\", self.FCFS_queue)\n",
    "                        write_job_in_queue(RRQueue_file, self.env.now, len(self.FCFS_queue))\n",
    "                        break\n",
    "                    else:\n",
    "                        '''there is no process with higher priority comes and the process completely finish.\n",
    "                            We calculate some statistics for this process'''\n",
    "                        my_job.turn_around_time = self.env.now - my_job.arrival_time\n",
    "                        assert my_job.turn_around_time == my_job.saved_burst_time + my_job.waiting_time\n",
    "                        write_statistic_to_file(stat_file, my_job)\n",
    "            else:\n",
    "                '''No process wait, therefore the CPU will go to IDLE state'''\n",
    "                yield self.env.process(self.CPU.idle())"
   ]
  },
  {
   "cell_type": "code",
   "execution_count": 153,
   "id": "517e150e",
   "metadata": {},
   "outputs": [],
   "source": [
    "class Simulation:\n",
    "    def __init__(self, env):\n",
    "        self.my_job_generator = JobGenerator(env)\n",
    "        self.my_cpu_scheduling = CpuScheduling(env, QUANTUM_TIME)\n",
    "\n",
    "    def simulate(self):\n",
    "        env.process(self.my_job_generator.generate_job(GENERATE_MODE, self.my_cpu_scheduling))\n",
    "        env.process(self.my_cpu_scheduling.schedule())"
   ]
  },
  {
   "cell_type": "code",
   "execution_count": 154,
   "id": "5badac19",
   "metadata": {},
   "outputs": [
    {
     "name": "stdout",
     "output_type": "stream",
     "text": [
      "./output/mode0\n",
      "Interrupt: Higher priority process comes!\n",
      "Interrupt: Higher priority process comes!\n",
      "Interrupt: Higher priority process comes!\n",
      "Interrupt: Higher priority process comes!\n",
      "Interrupt: Higher priority process comes!\n",
      "Interrupt: Higher priority process comes!\n",
      "Interrupt: Higher priority process comes!\n",
      "Interrupt: Higher priority process comes!\n",
      "Interrupt: Higher priority process comes!\n",
      "Interrupt: Higher priority process comes!\n",
      "Interrupt: Higher priority process comes!\n",
      "Interrupt: Higher priority process comes!\n",
      "Interrupt: Higher priority process comes!\n",
      "Interrupt: Higher priority process comes!\n",
      "Interrupt: Higher priority process comes!\n",
      "Interrupt: Higher priority process comes!\n",
      "Interrupt: Higher priority process comes!\n",
      "Interrupt: Higher priority process comes!\n",
      "Interrupt: Higher priority process comes!\n",
      "Interrupt: Higher priority process comes!\n",
      "Interrupt: Higher priority process comes!\n",
      "Interrupt: Higher priority process comes!\n",
      "Interrupt: Higher priority process comes!\n",
      "Interrupt: Higher priority process comes!\n",
      "Interrupt: Higher priority process comes!\n",
      "Interrupt: Higher priority process comes!\n",
      "Interrupt: Higher priority process comes!\n",
      "Interrupt: Higher priority process comes!\n",
      "Interrupt: Higher priority process comes!\n",
      "Interrupt: Higher priority process comes!\n",
      "Interrupt: Higher priority process comes!\n",
      "Interrupt: Higher priority process comes!\n",
      "Interrupt: Higher priority process comes!\n",
      "Interrupt: Higher priority process comes!\n",
      "Interrupt: Higher priority process comes!\n",
      "Interrupt: Higher priority process comes!\n",
      "Interrupt: Higher priority process comes!\n",
      "Interrupt: Higher priority process comes!\n",
      "Interrupt: Higher priority process comes!\n",
      "Interrupt: Higher priority process comes!\n",
      "Interrupt: Higher priority process comes!\n",
      "Interrupt: Higher priority process comes!\n",
      "Interrupt: Higher priority process comes!\n",
      "Interrupt: Higher priority process comes!\n",
      "Interrupt: Higher priority process comes!\n",
      "Interrupt: Higher priority process comes!\n",
      "Interrupt: Higher priority process comes!\n",
      "Interrupt: Higher priority process comes!\n",
      "Interrupt: Higher priority process comes!\n",
      "Interrupt: Higher priority process comes!\n",
      "Interrupt: Higher priority process comes!\n",
      "Interrupt: Higher priority process comes!\n"
     ]
    }
   ],
   "source": [
    "\n",
    "print(path_file)\n",
    "\n",
    "env = simpy.Environment()\n",
    "sim = Simulation(env)\n",
    "sim.simulate()\n",
    "env.run(until=1000)\n"
   ]
  },
  {
   "cell_type": "markdown",
   "id": "3e724ca6",
   "metadata": {},
   "source": [
    "# BEGIN PLOTTING"
   ]
  },
  {
   "cell_type": "code",
   "execution_count": 155,
   "id": "033ca3d8",
   "metadata": {},
   "outputs": [
    {
     "data": {
      "text/html": [
       "<div>\n",
       "<style scoped>\n",
       "    .dataframe tbody tr th:only-of-type {\n",
       "        vertical-align: middle;\n",
       "    }\n",
       "\n",
       "    .dataframe tbody tr th {\n",
       "        vertical-align: top;\n",
       "    }\n",
       "\n",
       "    .dataframe thead th {\n",
       "        text-align: right;\n",
       "    }\n",
       "</style>\n",
       "<table border=\"1\" class=\"dataframe\">\n",
       "  <thead>\n",
       "    <tr style=\"text-align: right;\">\n",
       "      <th></th>\n",
       "      <th>time</th>\n",
       "      <th>Amount</th>\n",
       "    </tr>\n",
       "  </thead>\n",
       "  <tbody>\n",
       "    <tr>\n",
       "      <th>count</th>\n",
       "      <td>147.000000</td>\n",
       "      <td>147.000000</td>\n",
       "    </tr>\n",
       "    <tr>\n",
       "      <th>mean</th>\n",
       "      <td>511.775510</td>\n",
       "      <td>8.340136</td>\n",
       "    </tr>\n",
       "    <tr>\n",
       "      <th>std</th>\n",
       "      <td>290.421135</td>\n",
       "      <td>5.084891</td>\n",
       "    </tr>\n",
       "    <tr>\n",
       "      <th>min</th>\n",
       "      <td>18.000000</td>\n",
       "      <td>0.000000</td>\n",
       "    </tr>\n",
       "    <tr>\n",
       "      <th>25%</th>\n",
       "      <td>256.500000</td>\n",
       "      <td>4.000000</td>\n",
       "    </tr>\n",
       "    <tr>\n",
       "      <th>50%</th>\n",
       "      <td>504.000000</td>\n",
       "      <td>7.000000</td>\n",
       "    </tr>\n",
       "    <tr>\n",
       "      <th>75%</th>\n",
       "      <td>775.500000</td>\n",
       "      <td>14.000000</td>\n",
       "    </tr>\n",
       "    <tr>\n",
       "      <th>max</th>\n",
       "      <td>995.000000</td>\n",
       "      <td>16.000000</td>\n",
       "    </tr>\n",
       "  </tbody>\n",
       "</table>\n",
       "</div>"
      ],
      "text/plain": [
       "             time      Amount\n",
       "count  147.000000  147.000000\n",
       "mean   511.775510    8.340136\n",
       "std    290.421135    5.084891\n",
       "min     18.000000    0.000000\n",
       "25%    256.500000    4.000000\n",
       "50%    504.000000    7.000000\n",
       "75%    775.500000   14.000000\n",
       "max    995.000000   16.000000"
      ]
     },
     "execution_count": 155,
     "metadata": {},
     "output_type": "execute_result"
    }
   ],
   "source": [
    "df = pd.read_csv(FCFSQueue_file)\n",
    "df.describe()"
   ]
  },
  {
   "cell_type": "code",
   "execution_count": 156,
   "id": "d2fabeea",
   "metadata": {},
   "outputs": [
    {
     "data": {
      "text/html": [
       "<div>\n",
       "<style scoped>\n",
       "    .dataframe tbody tr th:only-of-type {\n",
       "        vertical-align: middle;\n",
       "    }\n",
       "\n",
       "    .dataframe tbody tr th {\n",
       "        vertical-align: top;\n",
       "    }\n",
       "\n",
       "    .dataframe thead th {\n",
       "        text-align: right;\n",
       "    }\n",
       "</style>\n",
       "<table border=\"1\" class=\"dataframe\">\n",
       "  <thead>\n",
       "    <tr style=\"text-align: right;\">\n",
       "      <th></th>\n",
       "      <th>time</th>\n",
       "      <th>Amount</th>\n",
       "    </tr>\n",
       "  </thead>\n",
       "  <tbody>\n",
       "    <tr>\n",
       "      <th>count</th>\n",
       "      <td>164.000000</td>\n",
       "      <td>164.000000</td>\n",
       "    </tr>\n",
       "    <tr>\n",
       "      <th>mean</th>\n",
       "      <td>508.298780</td>\n",
       "      <td>3.048780</td>\n",
       "    </tr>\n",
       "    <tr>\n",
       "      <th>std</th>\n",
       "      <td>290.833796</td>\n",
       "      <td>4.696696</td>\n",
       "    </tr>\n",
       "    <tr>\n",
       "      <th>min</th>\n",
       "      <td>9.000000</td>\n",
       "      <td>0.000000</td>\n",
       "    </tr>\n",
       "    <tr>\n",
       "      <th>25%</th>\n",
       "      <td>261.000000</td>\n",
       "      <td>0.000000</td>\n",
       "    </tr>\n",
       "    <tr>\n",
       "      <th>50%</th>\n",
       "      <td>504.000000</td>\n",
       "      <td>1.000000</td>\n",
       "    </tr>\n",
       "    <tr>\n",
       "      <th>75%</th>\n",
       "      <td>765.000000</td>\n",
       "      <td>3.000000</td>\n",
       "    </tr>\n",
       "    <tr>\n",
       "      <th>max</th>\n",
       "      <td>999.000000</td>\n",
       "      <td>15.000000</td>\n",
       "    </tr>\n",
       "  </tbody>\n",
       "</table>\n",
       "</div>"
      ],
      "text/plain": [
       "             time      Amount\n",
       "count  164.000000  164.000000\n",
       "mean   508.298780    3.048780\n",
       "std    290.833796    4.696696\n",
       "min      9.000000    0.000000\n",
       "25%    261.000000    0.000000\n",
       "50%    504.000000    1.000000\n",
       "75%    765.000000    3.000000\n",
       "max    999.000000   15.000000"
      ]
     },
     "execution_count": 156,
     "metadata": {},
     "output_type": "execute_result"
    }
   ],
   "source": [
    "df2 = pd.read_csv(RRQueue_file)\n",
    "df2.describe()"
   ]
  },
  {
   "cell_type": "markdown",
   "id": "d0703721",
   "metadata": {},
   "source": [
    "# IMPORT DATA TO TIME STATISTIC FILE"
   ]
  },
  {
   "cell_type": "code",
   "execution_count": 157,
   "id": "e40dd253",
   "metadata": {},
   "outputs": [],
   "source": [
    "#time_statistic_to_file(stat_file, RR_time_stat_file)\n",
    "#time_statistic_to_file(stat_file, FCFS_time_stat_file)"
   ]
  },
  {
   "cell_type": "markdown",
   "id": "4ab8cfb8",
   "metadata": {},
   "source": [
    "### NUMBER OF PROCESS IN QUEUE PLOTTING"
   ]
  },
  {
   "cell_type": "code",
   "execution_count": 158,
   "id": "9a749199",
   "metadata": {
    "scrolled": true
   },
   "outputs": [
    {
     "data": {
      "image/png": "[encoded data removed]",
      "text/plain": [
       "<Figure size 1296x648 with 1 Axes>"
      ]
     },
     "metadata": {
      "needs_background": "light"
     },
     "output_type": "display_data"
    }
   ],
   "source": [
    "plt.figure(figsize=(18,9), layout='constrained')\n",
    "plt.bar(df[\"time\"], df[\"Amount\"], label='Number of Process in FCFS Queue', width = 2)\n",
    "plt.bar(df2[\"time\"], df2[\"Amount\"], label='Number of Process in RR Queue', width = 2)\n",
    "plt.xlabel(\"Time Unit\")\n",
    "plt.ylabel(\"Processes\")\n",
    "plt.legend()\n",
    "plt.savefig(\"{}/stat_plot_mode{}.png\".format(path_file, GENERATE_MODE))"
   ]
  },
  {
   "cell_type": "markdown",
   "id": "a1b52cc7",
   "metadata": {},
   "source": [
    "### Plot Frequency of Number of process in Queue "
   ]
  },
  {
   "cell_type": "code",
   "execution_count": 166,
   "id": "b29b8be7",
   "metadata": {},
   "outputs": [
    {
     "data": {
      "image/png": "[encoded data removed]",
      "text/plain": [
       "<Figure size 1296x648 with 1 Axes>"
      ]
     },
     "metadata": {
      "needs_background": "light"
     },
     "output_type": "display_data"
    },
    {
     "data": {
      "image/png": "[encoded data removed]",
      "text/plain": [
       "<Figure size 432x288 with 1 Axes>"
      ]
     },
     "metadata": {
      "needs_background": "light"
     },
     "output_type": "display_data"
    },
    {
     "data": {
      "image/png": "[encoded data removed]",
      "text/plain": [
       "<Figure size 432x288 with 1 Axes>"
      ]
     },
     "metadata": {
      "needs_background": "light"
     },
     "output_type": "display_data"
    },
    {
     "ename": "TypeError",
     "evalue": "IndexOpsMixin.nunique() got an unexpected keyword argument 'axis'",
     "output_type": "error",
     "traceback": [
      "\u001b[1;31m---------------------------------------------------------------------------\u001b[0m",
      "\u001b[1;31mTypeError\u001b[0m                                 Traceback (most recent call last)",
      "Input \u001b[1;32mIn [166]\u001b[0m, in \u001b[0;36m<cell line: 20>\u001b[1;34m()\u001b[0m\n\u001b[0;32m     18\u001b[0m plt\u001b[38;5;241m.\u001b[39mhist(df[\u001b[38;5;124m\"\u001b[39m\u001b[38;5;124mAmount\u001b[39m\u001b[38;5;124m\"\u001b[39m], bins \u001b[38;5;241m=\u001b[39m df[\u001b[38;5;124m\"\u001b[39m\u001b[38;5;124mAmount\u001b[39m\u001b[38;5;124m\"\u001b[39m]\u001b[38;5;241m.\u001b[39mnunique())\n\u001b[0;32m     19\u001b[0m plt\u001b[38;5;241m.\u001b[39mshow()\n\u001b[1;32m---> 20\u001b[0m \u001b[43mdf\u001b[49m\u001b[43m[\u001b[49m\u001b[38;5;124;43m'\u001b[39;49m\u001b[38;5;124;43mAmount\u001b[39;49m\u001b[38;5;124;43m'\u001b[39;49m\u001b[43m]\u001b[49m\u001b[38;5;241;43m.\u001b[39;49m\u001b[43mnunique\u001b[49m\u001b[43m(\u001b[49m\u001b[43maxis\u001b[49m\u001b[38;5;241;43m=\u001b[39;49m\u001b[38;5;241;43m1\u001b[39;49m\u001b[43m)\u001b[49m\n",
      "\u001b[1;31mTypeError\u001b[0m: IndexOpsMixin.nunique() got an unexpected keyword argument 'axis'"
     ]
    }
   ],
   "source": [
    "if (df[\"Amount\"].nunique() > df2[\"Amount\"].nunique()):\n",
    "    bin_value = df[\"Amount\"].nunique() -1\n",
    "else:\n",
    "    bin_value = df2[\"Amount\"].nunique() -1\n",
    "\n",
    "plt.figure(figsize=(18,9), layout='constrained')\n",
    "plt.hist([df[\"Amount\"], df2[\"Amount\"]], bins = bin_value, label = [\"FCFS Queue\", \"RR Queue\"])\n",
    "plt.xlabel(\"Processes in Queue\")\n",
    "plt.ylabel(\"Frequency\")\n",
    "plt.grid(True)\n",
    "plt.legend(prop ={'size': 20})\n",
    "plt.show()\n",
    "\n",
    "\n",
    "plt.hist(df2[\"Amount\"], bins = df2[\"Amount\"].nunique())\n",
    "plt.show()\n",
    "\n",
    "plt.hist(df[\"Amount\"], bins = df[\"Amount\"].nunique())\n",
    "plt.show()\n",
    "df['Amount'].nunique(axis=1)"
   ]
  },
  {
   "cell_type": "markdown",
   "id": "2f656eb1",
   "metadata": {},
   "source": [
    "### TIME STATISTIC PLOTTING"
   ]
  },
  {
   "cell_type": "markdown",
   "id": "e35ab69b",
   "metadata": {},
   "source": [
    "# DELETE CSV - AVOIDING OVERWRITE"
   ]
  },
  {
   "cell_type": "code",
   "execution_count": 160,
   "id": "038853c6",
   "metadata": {
    "scrolled": false
   },
   "outputs": [],
   "source": [
    "# if os.path.exists(str(stat_file)):\n",
    "#     os.remove(str(stat_file))\n",
    "#     print(\"Delete {}\".format(str(stat_file)))\n",
    "# else:\n",
    "#     print(\"{} does not exist\".format(str(stat_file)))\n",
    "\n",
    "# if os.path.exists(str(FCFSQueue_file)):\n",
    "#     os.remove(str(FCFSQueue_file))\n",
    "#     print(\"Delete {}\".format(str(FCFSQueue_file)))\n",
    "# else:\n",
    "#     print(\"{} does not exist\".format(str(FCFSQueue_file)))\n",
    "\n",
    "# if os.path.exists(str(RRQueue_file)):\n",
    "#     os.remove(str(RRQueue_file))\n",
    "#     print(\"Delete {}\".format(str(RRQueue_file)))\n",
    "# else:\n",
    "#     print(\"{} does not exist\".format(str(RRQueue_file)))"
   ]
  },
  {
   "cell_type": "code",
   "execution_count": null,
   "id": "c21fa6b4",
   "metadata": {},
   "outputs": [],
   "source": []
  },
  {
   "cell_type": "code",
   "execution_count": null,
   "id": "2c26b4fd",
   "metadata": {},
   "outputs": [],
   "source": []
  }
 ],
 "metadata": {
  "kernelspec": {
   "display_name": "Python 3 (ipykernel)",
   "language": "python",
   "name": "python3"
  },
  "language_info": {
   "codemirror_mode": {
    "name": "ipython",
    "version": 3
   },
   "file_extension": ".py",
   "mimetype": "text/x-python",
   "name": "python",
   "nbconvert_exporter": "python",
   "pygments_lexer": "ipython3",
   "version": "3.10.4"
  }
 },
 "nbformat": 4,
 "nbformat_minor": 5
}
